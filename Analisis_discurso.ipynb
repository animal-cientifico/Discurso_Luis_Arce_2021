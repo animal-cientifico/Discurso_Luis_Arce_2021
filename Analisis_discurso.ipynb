#instalación de librería
!pip install youtube-transcript-api
